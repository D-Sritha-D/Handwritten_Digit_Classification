{
  "nbformat": 4,
  "nbformat_minor": 0,
  "metadata": {
    "colab": {
      "provenance": []
    },
    "kernelspec": {
      "name": "python3",
      "display_name": "Python 3"
    },
    "language_info": {
      "name": "python"
    }
  },
  "cells": [
    {
      "cell_type": "code",
      "source": [
        "import numpy as np\n",
        "import pandas as pd\n",
        "import matplotlib.pyplot as plt\n",
        "%matplotlib inline\n",
        "import seaborn as sns\n",
        "import keras"
      ],
      "metadata": {
        "id": "KvRPLTBM61tp"
      },
      "execution_count": null,
      "outputs": []
    },
    {
      "cell_type": "code",
      "source": [
        "from keras.datasets import mnist\n",
        "\n",
        "def load_data():\n",
        "  (X_train, y_train), (X_test, y_test) = mnist.load_data()\n",
        "  return X_train, y_train, X_test, y_test\n",
        "\n",
        "X_train, y_train, X_test, y_test  = load_data()"
      ],
      "metadata": {
        "colab": {
          "base_uri": "https://localhost:8080/"
        },
        "id": "Lx1vngWj61wS",
        "outputId": "fc49df65-edab-4c53-8c46-a79fcbfef3fc"
      },
      "execution_count": null,
      "outputs": [
        {
          "output_type": "stream",
          "name": "stdout",
          "text": [
            "Downloading data from https://storage.googleapis.com/tensorflow/tf-keras-datasets/mnist.npz\n",
            "11490434/11490434 [==============================] - 1s 0us/step\n"
          ]
        }
      ]
    },
    {
      "cell_type": "code",
      "source": [
        "print(X_train.shape)\n",
        "print(y_train.shape)\n",
        "print(X_test.shape)\n",
        "print(y_test.shape)\n",
        "\n",
        "print(y_train[0:8])"
      ],
      "metadata": {
        "colab": {
          "base_uri": "https://localhost:8080/"
        },
        "id": "CarKFhBM69_U",
        "outputId": "bbbb9811-f685-4d1c-e4e7-5cb771f1e5e4"
      },
      "execution_count": null,
      "outputs": [
        {
          "output_type": "stream",
          "name": "stdout",
          "text": [
            "(60000, 28, 28)\n",
            "(60000,)\n",
            "(10000, 28, 28)\n",
            "(10000,)\n",
            "[5 0 4 1 9 2 1 3]\n"
          ]
        }
      ]
    },
    {
      "cell_type": "code",
      "source": [
        "print(np.amax(X_train))\n",
        "print(np.amin(X_train))"
      ],
      "metadata": {
        "colab": {
          "base_uri": "https://localhost:8080/"
        },
        "id": "Ijc2qQrB61zI",
        "outputId": "77d7c82f-1200-45ff-c149-8bd0f06bc74a"
      },
      "execution_count": null,
      "outputs": [
        {
          "output_type": "stream",
          "name": "stdout",
          "text": [
            "255\n",
            "0\n"
          ]
        }
      ]
    },
    {
      "cell_type": "code",
      "source": [
        "for i in range(0,3):\n",
        "  pixels=X_train[i]\n",
        "  plt.imshow(pixels, cmap = plt.cm.binary)\n",
        "  plt.show()\n",
        "  print(\"Label of image is\", y_train[i])"
      ],
      "metadata": {
        "colab": {
          "base_uri": "https://localhost:8080/",
          "height": 1000
        },
        "id": "QR9_WyQ9611d",
        "outputId": "698525ba-e2b2-4919-cec0-83e817f8a6f4"
      },
      "execution_count": null,
      "outputs": [
        {
          "output_type": "display_data",
          "data": {
            "text/plain": [
              "<Figure size 640x480 with 1 Axes>"
            ],
            "image/png": "[encoded data removed]"
          },
          "metadata": {}
        },
        {
          "output_type": "stream",
          "name": "stdout",
          "text": [
            "Label of image is 5\n"
          ]
        },
        {
          "output_type": "display_data",
          "data": {
            "text/plain": [
              "<Figure size 640x480 with 1 Axes>"
            ],
            "image/png": "[encoded data removed]"
          },
          "metadata": {}
        },
        {
          "output_type": "stream",
          "name": "stdout",
          "text": [
            "Label of image is 0\n"
          ]
        },
        {
          "output_type": "display_data",
          "data": {
            "text/plain": [
              "<Figure size 640x480 with 1 Axes>"
            ],
            "image/png": "[encoded data removed]"
          },
          "metadata": {}
        },
        {
          "output_type": "stream",
          "name": "stdout",
          "text": [
            "Label of image is 4\n"
          ]
        }
      ]
    },
    {
      "cell_type": "code",
      "source": [
        "def convert_dtype(x):\n",
        "\n",
        "    x_float=x.astype('float32')\n",
        "    return x_float\n",
        "\n",
        "X_train = convert_dtype(X_train)\n",
        "X_test = convert_dtype(X_test)"
      ],
      "metadata": {
        "id": "Wl77wvEh613l"
      },
      "execution_count": null,
      "outputs": []
    },
    {
      "cell_type": "code",
      "source": [
        "def normalize(x):\n",
        "  y = (x - np.min(x))/np.ptp(x)   #ptp function is used to find the range\n",
        "  return y\n",
        "\n",
        "X_train = normalize(X_train)\n",
        "X_test = normalize(X_test)"
      ],
      "metadata": {
        "id": "oZrpmJSV615v"
      },
      "execution_count": null,
      "outputs": []
    },
    {
      "cell_type": "code",
      "source": [
        "# to check if train_samples is normalized or not\n",
        "np.isclose(np.amax(X_train), 1)"
      ],
      "metadata": {
        "colab": {
          "base_uri": "https://localhost:8080/"
        },
        "id": "KIX36-sI618a",
        "outputId": "8da6eeff-b035-4aa9-9198-d2351eb101b9"
      },
      "execution_count": null,
      "outputs": [
        {
          "output_type": "execute_result",
          "data": {
            "text/plain": [
              "True"
            ]
          },
          "metadata": {},
          "execution_count": 8
        }
      ]
    },
    {
      "cell_type": "code",
      "source": [
        "# We need to reshape our train_data to be of shape (samples, height, width, channels) pass to Conv2D layer of keras\n",
        "\n",
        "def reshape(x):\n",
        "\n",
        "    x_r=x.reshape(x.shape[0],x.shape[1],x.shape[2],1)\n",
        "    return x_r\n",
        "\n",
        "X_train = reshape(X_train)\n",
        "X_test = reshape(X_test)"
      ],
      "metadata": {
        "id": "qLwyGHSB61-1"
      },
      "execution_count": null,
      "outputs": []
    },
    {
      "cell_type": "code",
      "source": [
        "def oneHot(y, Ny):\n",
        "\n",
        "    import tensorflow\n",
        "    from keras.utils import to_categorical\n",
        "    Ny=len(np.unique(y))\n",
        "    y_oh=to_categorical(y,num_classes=Ny)\n",
        "    return y_oh\n",
        "\n",
        "# example\n",
        "y_train = oneHot(y_train, 10)\n",
        "y_test = oneHot(y_test, 10)"
      ],
      "metadata": {
        "id": "442Cref362A2"
      },
      "execution_count": null,
      "outputs": []
    },
    {
      "cell_type": "code",
      "source": [
        "from keras.layers import Conv2D, MaxPool2D, Flatten, Dense, Dropout\n",
        "from keras.models import Sequential\n",
        "model = Sequential([\n",
        "Conv2D(filters=32, kernel_size=(3, 3), padding='same', strides=(1,1), activation='relu', input_shape=(28, 28, 1)),\n",
        "MaxPool2D(pool_size=(2, 2), strides=(2, 2)),\n",
        "Dropout(0.2),\n",
        "Conv2D(filters=64, kernel_size=(3, 3), padding='same', strides=(1,1), activation='relu'),\n",
        "MaxPool2D(pool_size=(2, 2), strides=(2, 2)),\n",
        "Dropout(0.2),\n",
        "Flatten(),\n",
        "Dense(units=128, activation='relu'),\n",
        "Dense(units=10, activation='softmax'),\n",
        "])"
      ],
      "metadata": {
        "id": "gazkwrh-62C_"
      },
      "execution_count": null,
      "outputs": []
    },
    {
      "cell_type": "code",
      "source": [
        "import warnings\n",
        "warnings.filterwarnings('ignore')\n",
        "from keras.optimizers import Adam\n",
        "from keras.losses import CategoricalCrossentropy\n",
        "from keras.metrics import CategoricalAccuracy\n",
        "\n",
        "model.compile(optimizer=Adam(learning_rate=0.001),\n",
        "            loss=CategoricalCrossentropy(),\n",
        "            metrics=[\"acc\"])"
      ],
      "metadata": {
        "id": "h9d9VnzSEJO_"
      },
      "execution_count": null,
      "outputs": []
    },
    {
      "cell_type": "code",
      "source": [
        "results = model.fit(X_train, y_train, epochs=10, batch_size=256, validation_data=(X_test, y_test))"
      ],
      "metadata": {
        "colab": {
          "base_uri": "https://localhost:8080/"
        },
        "id": "IQ-ZeoRS62H7",
        "outputId": "321d6e8a-4335-48ca-9264-c8c21a97d9cf"
      },
      "execution_count": null,
      "outputs": [
        {
          "output_type": "stream",
          "name": "stdout",
          "text": [
            "Epoch 1/10\n",
            "235/235 [==============================] - 79s 322ms/step - loss: 0.2990 - acc: 0.9109 - val_loss: 0.0857 - val_acc: 0.9722\n",
            "Epoch 2/10\n",
            "235/235 [==============================] - 75s 320ms/step - loss: 0.0798 - acc: 0.9758 - val_loss: 0.0470 - val_acc: 0.9852\n",
            "Epoch 3/10\n",
            "235/235 [==============================] - 78s 332ms/step - loss: 0.0596 - acc: 0.9814 - val_loss: 0.0382 - val_acc: 0.9880\n",
            "Epoch 4/10\n",
            "235/235 [==============================] - 76s 323ms/step - loss: 0.0464 - acc: 0.9860 - val_loss: 0.0392 - val_acc: 0.9868\n",
            "Epoch 5/10\n",
            "235/235 [==============================] - 83s 352ms/step - loss: 0.0378 - acc: 0.9887 - val_loss: 0.0284 - val_acc: 0.9905\n",
            "Epoch 6/10\n",
            "235/235 [==============================] - 76s 324ms/step - loss: 0.0323 - acc: 0.9897 - val_loss: 0.0298 - val_acc: 0.9903\n",
            "Epoch 7/10\n",
            "235/235 [==============================] - 73s 311ms/step - loss: 0.0297 - acc: 0.9905 - val_loss: 0.0292 - val_acc: 0.9904\n",
            "Epoch 8/10\n",
            "235/235 [==============================] - 78s 329ms/step - loss: 0.0248 - acc: 0.9922 - val_loss: 0.0266 - val_acc: 0.9907\n",
            "Epoch 9/10\n",
            "235/235 [==============================] - 89s 380ms/step - loss: 0.0225 - acc: 0.9928 - val_loss: 0.0274 - val_acc: 0.9912\n",
            "Epoch 10/10\n",
            "235/235 [==============================] - 78s 333ms/step - loss: 0.0201 - acc: 0.9934 - val_loss: 0.0237 - val_acc: 0.9912\n"
          ]
        }
      ]
    },
    {
      "cell_type": "code",
      "source": [
        "import pickle\n",
        "\n",
        "pickle.dump(model, open('model.pth', 'wb'))"
      ],
      "metadata": {
        "id": "yvxDi_P5-YyJ"
      },
      "execution_count": null,
      "outputs": []
    },
    {
      "cell_type": "code",
      "source": [
        "results.history.keys()\n",
        "import matplotlib.pyplot as plt\n",
        "plt.plot(range(len(results.history['val_loss'])), results.history['val_loss'])\n",
        "plt.show()"
      ],
      "metadata": {
        "colab": {
          "base_uri": "https://localhost:8080/",
          "height": 430
        },
        "id": "fuH7vmEx62KR",
        "outputId": "430a717d-5837-4148-9521-e72f678cc136"
      },
      "execution_count": null,
      "outputs": [
        {
          "output_type": "display_data",
          "data": {
            "text/plain": [
              "<Figure size 640x480 with 1 Axes>"
            ],
            "image/png": "[encoded data removed]"
          },
          "metadata": {}
        }
      ]
    },
    {
      "cell_type": "code",
      "source": [
        "def predict(x):\n",
        "    y = model.predict(x)\n",
        "    return y\n",
        "\n",
        "predicted_labels_train = predict(X_train)"
      ],
      "metadata": {
        "colab": {
          "base_uri": "https://localhost:8080/"
        },
        "id": "w0uvnHzm7Vqp",
        "outputId": "ba4a5953-8177-4ac7-c9c8-a8b21fe530f8"
      },
      "execution_count": null,
      "outputs": [
        {
          "output_type": "stream",
          "name": "stdout",
          "text": [
            "1875/1875 [==============================] - 33s 17ms/step\n"
          ]
        }
      ]
    },
    {
      "cell_type": "code",
      "source": [
        "def oneHot_tolabel(y):\n",
        "    y_b=[]\n",
        "    from sklearn.preprocessing import LabelEncoder\n",
        "    labelencoder = LabelEncoder()\n",
        "    y_b[:, 0] = labelencoder.fit_transform(y_b[:, 0])\n",
        "    return y_b"
      ],
      "metadata": {
        "id": "kOm8a_er7Vs2"
      },
      "execution_count": null,
      "outputs": []
    },
    {
      "cell_type": "code",
      "source": [
        "def create_confusion_matrix(true_labels, predicted_labels):\n",
        "\n",
        "    from sklearn.metrics import confusion_matrix\n",
        "    cm = confusion_matrix(true_labels.argmax(axis=1), predicted_labels.argmax(axis=1))\n",
        "    return cm\n",
        "\n",
        "cm = create_confusion_matrix((y_train), (predict(X_train)))\n",
        "print(cm)"
      ],
      "metadata": {
        "colab": {
          "base_uri": "https://localhost:8080/"
        },
        "id": "RWHBapgs7ZMI",
        "outputId": "27c57f99-3fec-4211-9f28-ccb0d0cf8cab"
      },
      "execution_count": null,
      "outputs": [
        {
          "output_type": "stream",
          "name": "stdout",
          "text": [
            "1875/1875 [==============================] - 25s 13ms/step\n",
            "[[5918    0    0    0    0    0    3    0    2    0]\n",
            " [   0 6725    2    0    0    0    0   15    0    0]\n",
            " [   0    2 5944    0    0    0    0    5    6    1]\n",
            " [   2    0    0 6107    0    8    0    4    6    4]\n",
            " [   0    1    0    0 5831    0    1    1    0    8]\n",
            " [   0    1    0    2    0 5411    5    0    1    1]\n",
            " [   1    0    1    0    1    2 5912    0    1    0]\n",
            " [   0    2    1    0    1    0    0 6259    0    2]\n",
            " [   0    1    1    0    1    1    5    1 5835    6]\n",
            " [   3    1    0    0   11    0    0    6    7 5921]]\n"
          ]
        }
      ]
    },
    {
      "cell_type": "code",
      "source": [
        "# Plot Confusion matrix\n",
        "sns.heatmap(cm.T, square=True, annot=True, cbar=False, cmap=plt.cm.Blues, fmt='.0f')\n",
        "plt.xlabel('Predicted Values')\n",
        "plt.ylabel('True Values');\n",
        "plt.show();"
      ],
      "metadata": {
        "colab": {
          "base_uri": "https://localhost:8080/",
          "height": 449
        },
        "id": "8RkFSudm7ZIp",
        "outputId": "941643a7-f9ca-498f-be9c-1d8e41162257"
      },
      "execution_count": null,
      "outputs": [
        {
          "output_type": "display_data",
          "data": {
            "text/plain": [
              "<Figure size 640x480 with 1 Axes>"
            ],
            "image/png": "[encoded data removed]"
          },
          "metadata": {}
        }
      ]
    },
    {
      "cell_type": "code",
      "source": [
        "!pip install Streamlit -q"
      ],
      "metadata": {
        "id": "zxRI3B5-7Y9X"
      },
      "execution_count": null,
      "outputs": []
    },
    {
      "cell_type": "code",
      "source": [
        "!pip install streamlit-drawable-canvas --quiet"
      ],
      "metadata": {
        "colab": {
          "base_uri": "https://localhost:8080/"
        },
        "id": "0d4dS1gd8Cs-",
        "outputId": "ac17e486-7301-4175-f572-8935e9634e94"
      },
      "execution_count": null,
      "outputs": [
        {
          "output_type": "stream",
          "name": "stdout",
          "text": [
            "\u001b[2K     \u001b[90m━━━━━━━━━━━━━━━━━━━━━━━━━━━━━━━━━━━━━━━━\u001b[0m \u001b[32m1.2/1.2 MB\u001b[0m \u001b[31m13.2 MB/s\u001b[0m eta \u001b[36m0:00:00\u001b[0m\n",
            "\u001b[2K     \u001b[90m━━━━━━━━━━━━━━━━━━━━━━━━━━━━━━━━━━━━━━━━\u001b[0m \u001b[32m8.1/8.1 MB\u001b[0m \u001b[31m49.5 MB/s\u001b[0m eta \u001b[36m0:00:00\u001b[0m\n",
            "\u001b[2K     \u001b[90m━━━━━━━━━━━━━━━━━━━━━━━━━━━━━━━━━━━━━━━━\u001b[0m \u001b[32m53.0/53.0 kB\u001b[0m \u001b[31m5.4 MB/s\u001b[0m eta \u001b[36m0:00:00\u001b[0m\n",
            "\u001b[2K     \u001b[90m━━━━━━━━━━━━━━━━━━━━━━━━━━━━━━━━━━━━━━━━\u001b[0m \u001b[32m195.4/195.4 kB\u001b[0m \u001b[31m17.6 MB/s\u001b[0m eta \u001b[36m0:00:00\u001b[0m\n",
            "\u001b[2K     \u001b[90m━━━━━━━━━━━━━━━━━━━━━━━━━━━━━━━━━━━━━━━━\u001b[0m \u001b[32m4.8/4.8 MB\u001b[0m \u001b[31m46.3 MB/s\u001b[0m eta \u001b[36m0:00:00\u001b[0m\n",
            "\u001b[2K     \u001b[90m━━━━━━━━━━━━━━━━━━━━━━━━━━━━━━━━━━━━━━━━\u001b[0m \u001b[32m83.0/83.0 kB\u001b[0m \u001b[31m7.7 MB/s\u001b[0m eta \u001b[36m0:00:00\u001b[0m\n",
            "\u001b[2K     \u001b[90m━━━━━━━━━━━━━━━━━━━━━━━━━━━━━━━━━━━━━━━━\u001b[0m \u001b[32m62.7/62.7 kB\u001b[0m \u001b[31m6.8 MB/s\u001b[0m eta \u001b[36m0:00:00\u001b[0m\n",
            "\u001b[?25h"
          ]
        }
      ]
    },
    {
      "cell_type": "code",
      "source": [
        "import requests\n",
        "\n",
        "def get_public_ip():\n",
        "    response = requests.get('https://api.ipify.org')\n",
        "    return response.text\n",
        "\n",
        "public_ip = get_public_ip()\n",
        "print(f\"Public IP Address: {public_ip}\")"
      ],
      "metadata": {
        "colab": {
          "base_uri": "https://localhost:8080/"
        },
        "id": "FVnfUKQP786y",
        "outputId": "5c021dce-2ae6-4e37-955b-50dd124bf898"
      },
      "execution_count": null,
      "outputs": [
        {
          "output_type": "stream",
          "name": "stdout",
          "text": [
            "Public IP Address: 35.201.244.160\n"
          ]
        }
      ]
    },
    {
      "cell_type": "code",
      "source": [
        "!streamlit run app.py & npx localtunnel --port 8501"
      ],
      "metadata": {
        "colab": {
          "base_uri": "https://localhost:8080/"
        },
        "id": "lLoV9Xdh8EMU",
        "outputId": "20d49492-2d18-4010-ea7a-ccbdfbd71aab"
      },
      "execution_count": null,
      "outputs": [
        {
          "output_type": "stream",
          "name": "stdout",
          "text": [
            "\n",
            "Collecting usage statistics. To deactivate, set browser.gatherUsageStats to False.\n",
            "\u001b[0m\n",
            "\u001b[0m\n",
            "\u001b[34m\u001b[1m  You can now view your Streamlit app in your browser.\u001b[0m\n",
            "\u001b[0m\n",
            "\u001b[34m  Network URL: \u001b[0m\u001b[1mhttp://172.28.0.12:8501\u001b[0m\n",
            "\u001b[34m  External URL: \u001b[0m\u001b[1mhttp://35.201.244.160:8501\u001b[0m\n",
            "\u001b[0m\n",
            "\u001b[K\u001b[?25hnpx: installed 22 in 5.595s\n",
            "your url is: https://red-planes-stand.loca.lt\n",
            "2024-03-23 12:10:52.202 MediaFileHandler: Missing file 8bebc42e31b980e9033653c5d73c176b78d0e5f8d52776935f471d4a.png\n",
            "\u001b[34m  Stopping...\u001b[0m\n",
            "^C\n"
          ]
        }
      ]
    },
    {
      "cell_type": "code",
      "source": [],
      "metadata": {
        "id": "muh8jRBuD1zx"
      },
      "execution_count": null,
      "outputs": []
    }
  ]
}